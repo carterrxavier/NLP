{
 "cells": [
  {
   "cell_type": "code",
   "execution_count": 6,
   "id": "52e975ea-b433-4232-9baa-9b071cff5928",
   "metadata": {},
   "outputs": [],
   "source": [
    "import pandas as pd\n",
    "import numpy as np\n",
    "from requests import get\n",
    "from bs4 import BeautifulSoup\n",
    "import os\n",
    "\n",
    "import aquire"
   ]
  },
  {
   "cell_type": "code",
   "execution_count": 2,
   "id": "25cca2a9-9b92-414a-ab50-f8685efd01ac",
   "metadata": {},
   "outputs": [],
   "source": [
    "get_list = aquire.get_articles(['https://codeup.com/codeups-data-science-career-accelerator-is-here/',\\\n",
    "                     'https://codeup.com/data-science-myths/',\\\n",
    "                     'https://codeup.com/data-science-vs-data-analytics-whats-the-difference/',\\\n",
    "                     'https://codeup.com/10-tips-to-crush-it-at-the-sa-tech-job-fair/',\\\n",
    "                     'https://codeup.com/competitor-bootcamps-are-closing-is-the-model-in-danger/'])"
   ]
  },
  {
   "cell_type": "code",
   "execution_count": 4,
   "id": "2d2b074e-ad22-416d-8549-78dddc3b35e2",
   "metadata": {},
   "outputs": [],
   "source": [
    "get_blog = aquire.get_blog_articles(['business', 'sports', 'technology', 'entertainment'])"
   ]
  },
  {
   "cell_type": "code",
   "execution_count": 7,
   "id": "ad5e87d1-426a-4264-a69f-37e6a0eac8e9",
   "metadata": {},
   "outputs": [],
   "source": [
    "df1 = pd.DataFrame()"
   ]
  },
  {
   "cell_type": "code",
   "execution_count": 8,
   "id": "20ec5dba-d935-4c9a-80b0-0329692bc29e",
   "metadata": {},
   "outputs": [],
   "source": [
    "df1 = pd.DataFrame(get_list)"
   ]
  },
  {
   "cell_type": "code",
   "execution_count": 9,
   "id": "089217cd-8e12-4861-bc4f-f55a2cc96f9a",
   "metadata": {},
   "outputs": [
    {
     "data": {
      "text/html": [
       "<div>\n",
       "<style scoped>\n",
       "    .dataframe tbody tr th:only-of-type {\n",
       "        vertical-align: middle;\n",
       "    }\n",
       "\n",
       "    .dataframe tbody tr th {\n",
       "        vertical-align: top;\n",
       "    }\n",
       "\n",
       "    .dataframe thead th {\n",
       "        text-align: right;\n",
       "    }\n",
       "</style>\n",
       "<table border=\"1\" class=\"dataframe\">\n",
       "  <thead>\n",
       "    <tr style=\"text-align: right;\">\n",
       "      <th></th>\n",
       "      <th>title</th>\n",
       "      <th>content</th>\n",
       "    </tr>\n",
       "  </thead>\n",
       "  <tbody>\n",
       "    <tr>\n",
       "      <th>0</th>\n",
       "      <td>Codeup’s Data Science Career Accelerator is Here!</td>\n",
       "      <td>The rumors are true! The time has arrived. Cod...</td>\n",
       "    </tr>\n",
       "    <tr>\n",
       "      <th>1</th>\n",
       "      <td>Data Science Myths</td>\n",
       "      <td>By Dimitri Antoniou and Maggie Giust\\nData Sci...</td>\n",
       "    </tr>\n",
       "    <tr>\n",
       "      <th>2</th>\n",
       "      <td>Data Science VS Data Analytics: What’s The Dif...</td>\n",
       "      <td>By Dimitri Antoniou\\nA week ago, Codeup launch...</td>\n",
       "    </tr>\n",
       "    <tr>\n",
       "      <th>3</th>\n",
       "      <td>10 Tips to Crush It at the SA Tech Job Fair</td>\n",
       "      <td>SA Tech Job Fair\\nThe third bi-annual San Anto...</td>\n",
       "    </tr>\n",
       "    <tr>\n",
       "      <th>4</th>\n",
       "      <td>Competitor Bootcamps Are Closing. Is the Model...</td>\n",
       "      <td>Competitor Bootcamps Are Closing. Is the Model...</td>\n",
       "    </tr>\n",
       "  </tbody>\n",
       "</table>\n",
       "</div>"
      ],
      "text/plain": [
       "                                               title  \\\n",
       "0  Codeup’s Data Science Career Accelerator is Here!   \n",
       "1                                 Data Science Myths   \n",
       "2  Data Science VS Data Analytics: What’s The Dif...   \n",
       "3        10 Tips to Crush It at the SA Tech Job Fair   \n",
       "4  Competitor Bootcamps Are Closing. Is the Model...   \n",
       "\n",
       "                                             content  \n",
       "0  The rumors are true! The time has arrived. Cod...  \n",
       "1  By Dimitri Antoniou and Maggie Giust\\nData Sci...  \n",
       "2  By Dimitri Antoniou\\nA week ago, Codeup launch...  \n",
       "3  SA Tech Job Fair\\nThe third bi-annual San Anto...  \n",
       "4  Competitor Bootcamps Are Closing. Is the Model...  "
      ]
     },
     "execution_count": 9,
     "metadata": {},
     "output_type": "execute_result"
    }
   ],
   "source": [
    "df1"
   ]
  },
  {
   "cell_type": "code",
   "execution_count": 10,
   "id": "1cd28a81-e3c1-4be9-9574-df067b3f3488",
   "metadata": {},
   "outputs": [],
   "source": [
    "df2 = pd.DataFrame(get_blog)"
   ]
  },
  {
   "cell_type": "code",
   "execution_count": 11,
   "id": "a05ec2d3-1fd6-4549-baeb-b6f25c27d20a",
   "metadata": {},
   "outputs": [
    {
     "data": {
      "text/html": [
       "<div>\n",
       "<style scoped>\n",
       "    .dataframe tbody tr th:only-of-type {\n",
       "        vertical-align: middle;\n",
       "    }\n",
       "\n",
       "    .dataframe tbody tr th {\n",
       "        vertical-align: top;\n",
       "    }\n",
       "\n",
       "    .dataframe thead th {\n",
       "        text-align: right;\n",
       "    }\n",
       "</style>\n",
       "<table border=\"1\" class=\"dataframe\">\n",
       "  <thead>\n",
       "    <tr style=\"text-align: right;\">\n",
       "      <th></th>\n",
       "      <th>Title</th>\n",
       "      <th>Content</th>\n",
       "      <th>Category</th>\n",
       "    </tr>\n",
       "  </thead>\n",
       "  <tbody>\n",
       "    <tr>\n",
       "      <th>0</th>\n",
       "      <td>China's ex-teacher turned billionaire no more ...</td>\n",
       "      <td>China's Larry Chen, a former teacher who becam...</td>\n",
       "      <td>business</td>\n",
       "    </tr>\n",
       "    <tr>\n",
       "      <th>1</th>\n",
       "      <td>Amazon job posting fuels speculations about pl...</td>\n",
       "      <td>A new job posting by Amazon has fuelled specul...</td>\n",
       "      <td>business</td>\n",
       "    </tr>\n",
       "    <tr>\n",
       "      <th>2</th>\n",
       "      <td>Musk takes a jibe at rival car companies, says...</td>\n",
       "      <td>Tesla CEO and the world's second-richest perso...</td>\n",
       "      <td>business</td>\n",
       "    </tr>\n",
       "    <tr>\n",
       "      <th>3</th>\n",
       "      <td>Unemployment rate rises in both urban, rural a...</td>\n",
       "      <td>India's unemployment rate soared to 7.14% in t...</td>\n",
       "      <td>business</td>\n",
       "    </tr>\n",
       "    <tr>\n",
       "      <th>4</th>\n",
       "      <td>Govt paid Infosys ₹164.5 crore for new Income ...</td>\n",
       "      <td>The government paid ₹164.5 crore to Infosys to...</td>\n",
       "      <td>business</td>\n",
       "    </tr>\n",
       "    <tr>\n",
       "      <th>...</th>\n",
       "      <td>...</td>\n",
       "      <td>...</td>\n",
       "      <td>...</td>\n",
       "    </tr>\n",
       "    <tr>\n",
       "      <th>92</th>\n",
       "      <td>With her I never felt out of place: Rohit Sara...</td>\n",
       "      <td>Recalling the time of promotions of his film '...</td>\n",
       "      <td>entertainment</td>\n",
       "    </tr>\n",
       "    <tr>\n",
       "      <th>93</th>\n",
       "      <td>I laugh it off: Dilip on rumours about tiff be...</td>\n",
       "      <td>Reacting to rumours about a tiff between the c...</td>\n",
       "      <td>entertainment</td>\n",
       "    </tr>\n",
       "    <tr>\n",
       "      <th>94</th>\n",
       "      <td>Shooting 'LOC: Kargil' was very touching: Sanj...</td>\n",
       "      <td>On the occasion of Kargil Vijay Diwas, actor S...</td>\n",
       "      <td>entertainment</td>\n",
       "    </tr>\n",
       "    <tr>\n",
       "      <th>95</th>\n",
       "      <td>Guru Randhawa to make his debut as an actor in...</td>\n",
       "      <td>Singer Guru Randhawa will make his debut as an...</td>\n",
       "      <td>entertainment</td>\n",
       "    </tr>\n",
       "    <tr>\n",
       "      <th>96</th>\n",
       "      <td>I was shocked: Jugal Hansraj on replacing Saif...</td>\n",
       "      <td>Actor Jugal Hansraj, who starred with actress ...</td>\n",
       "      <td>entertainment</td>\n",
       "    </tr>\n",
       "  </tbody>\n",
       "</table>\n",
       "<p>97 rows × 3 columns</p>\n",
       "</div>"
      ],
      "text/plain": [
       "                                                Title  \\\n",
       "0   China's ex-teacher turned billionaire no more ...   \n",
       "1   Amazon job posting fuels speculations about pl...   \n",
       "2   Musk takes a jibe at rival car companies, says...   \n",
       "3   Unemployment rate rises in both urban, rural a...   \n",
       "4   Govt paid Infosys ₹164.5 crore for new Income ...   \n",
       "..                                                ...   \n",
       "92  With her I never felt out of place: Rohit Sara...   \n",
       "93  I laugh it off: Dilip on rumours about tiff be...   \n",
       "94  Shooting 'LOC: Kargil' was very touching: Sanj...   \n",
       "95  Guru Randhawa to make his debut as an actor in...   \n",
       "96  I was shocked: Jugal Hansraj on replacing Saif...   \n",
       "\n",
       "                                              Content       Category  \n",
       "0   China's Larry Chen, a former teacher who becam...       business  \n",
       "1   A new job posting by Amazon has fuelled specul...       business  \n",
       "2   Tesla CEO and the world's second-richest perso...       business  \n",
       "3   India's unemployment rate soared to 7.14% in t...       business  \n",
       "4   The government paid ₹164.5 crore to Infosys to...       business  \n",
       "..                                                ...            ...  \n",
       "92  Recalling the time of promotions of his film '...  entertainment  \n",
       "93  Reacting to rumours about a tiff between the c...  entertainment  \n",
       "94  On the occasion of Kargil Vijay Diwas, actor S...  entertainment  \n",
       "95  Singer Guru Randhawa will make his debut as an...  entertainment  \n",
       "96  Actor Jugal Hansraj, who starred with actress ...  entertainment  \n",
       "\n",
       "[97 rows x 3 columns]"
      ]
     },
     "execution_count": 11,
     "metadata": {},
     "output_type": "execute_result"
    }
   ],
   "source": [
    "df2"
   ]
  },
  {
   "cell_type": "code",
   "execution_count": null,
   "id": "c007b271-3b94-40fc-aada-4a1c630778eb",
   "metadata": {},
   "outputs": [],
   "source": []
  }
 ],
 "metadata": {
  "kernelspec": {
   "display_name": "Python 3",
   "language": "python",
   "name": "python3"
  },
  "language_info": {
   "codemirror_mode": {
    "name": "ipython",
    "version": 3
   },
   "file_extension": ".py",
   "mimetype": "text/x-python",
   "name": "python",
   "nbconvert_exporter": "python",
   "pygments_lexer": "ipython3",
   "version": "3.8.10"
  }
 },
 "nbformat": 4,
 "nbformat_minor": 5
}
