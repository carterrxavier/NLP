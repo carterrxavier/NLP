{
 "cells": [
  {
   "cell_type": "code",
   "execution_count": 1,
   "id": "52e975ea-b433-4232-9baa-9b071cff5928",
   "metadata": {},
   "outputs": [],
   "source": [
    "from requests import get\n",
    "from bs4 import BeautifulSoup\n",
    "import os\n",
    "\n",
    "import aquire"
   ]
  },
  {
   "cell_type": "code",
   "execution_count": 2,
   "id": "25cca2a9-9b92-414a-ab50-f8685efd01ac",
   "metadata": {},
   "outputs": [],
   "source": [
    "get_list = aquire.get_articles(['https://codeup.com/codeups-data-science-career-accelerator-is-here/',\\\n",
    "                     'https://codeup.com/data-science-myths/',\\\n",
    "                     'https://codeup.com/data-science-vs-data-analytics-whats-the-difference/',\\\n",
    "                     'https://codeup.com/10-tips-to-crush-it-at-the-sa-tech-job-fair/',\\\n",
    "                     'https://codeup.com/competitor-bootcamps-are-closing-is-the-model-in-danger/'])"
   ]
  },
  {
   "cell_type": "code",
   "execution_count": 3,
   "id": "d62c73a2-aadc-4c74-a6d6-28e1bedc8670",
   "metadata": {},
   "outputs": [
    {
     "data": {
      "text/plain": [
       "'By Dimitri Antoniou\\nA week ago, Codeup launched our immersive Data Science career accelerator! With our first-class kicking off in February and only 25 seats available, we’ve been answering a lot of questions from prospective students. One, in particular, has come up so many times we decided to dedicate a blog post to it. What is the difference between data science and data analytics?\\nFirst, let’s define some of our terms! Take a look at this blog to understand what Data Science is. In short, it is a method of turning raw data into action, leading to the desired outcome. Big Data refers to data sets that are large and complex, usually exceeding the capacity of computers and normal processing power to deal with. Machine Learning is the process of ‘learning’ underlying patterns of data in order to automate the extraction of intelligence from that data.\\n\\xa0\\n\\xa0\\nNow, let’s look at the data pipeline that data scientists work through to reach the actionable insights and outcomes we mentioned:\\n\\nWe start by collecting data, which may come from social media channels, network logs, financials, employee records, or more.\\nWe then process that data into usable information stored in databases or streamed.\\nNext, we look back on the history of that data to summarize, describe, and explain, turning the data into meaningful knowledge. Here we’re primarily using mathematics, statistics, and visualization methods.\\nNow we convert that knowledge into intelligence, seeking to predict future events so that we can make decisions in the present. This is where practitioners will introduce mathematical/statistical modeling through machine learning to their data.\\nFinally, we enable action by building automations, running tests, building visualizations, monitoring new data, etc.\\n\\nData professionals work at different stages of the spectrum to move data through the pipeline. On the left, Big Data Engineers specialize in collecting, storing, and processing data, getting it from Data to Information. In the middle, analysts work to understand and convert that information to knowledge. Lastly, a Machine Learning Engineer utilizes machine learning algorithms to turn intelligence into action by building automations, visualizations, recommendations, and predictions.\\nData Scientists span multiple stages of this pipeline, from information to action. They will spend about 70% of their time wrangling data in the information stage. They will conduct a statistical analysis to derive knowledge. Lastly, they predict future events and build automations using machine learning.\\nFor those technical folk out there, data science is to data engineering or machine learning engineering as full-stack development is to front-end or back-end development. For the non-technical folk, data science is the umbrella term that houses data analytics, machine learning, and other data professions.\\nSo what’s the biggest difference between a data analyst and a data scientist? Data scientists utilize computer programming and machine learning in addition to mathematics and statistics. \\nStill have questions? Reach out to us.\\xa0Wondering which of Codeup’s programs is right for you? We’ve got you covered. And of course, if data science gets you excited, get started with us today!\\n\\n'"
      ]
     },
     "execution_count": 3,
     "metadata": {},
     "output_type": "execute_result"
    }
   ],
   "source": [
    "get_list[0]['content']"
   ]
  },
  {
   "cell_type": "code",
   "execution_count": null,
   "id": "c88a181d-9d81-46b5-83da-bc6d4d7e0797",
   "metadata": {},
   "outputs": [],
   "source": []
  }
 ],
 "metadata": {
  "kernelspec": {
   "display_name": "Python 3",
   "language": "python",
   "name": "python3"
  },
  "language_info": {
   "codemirror_mode": {
    "name": "ipython",
    "version": 3
   },
   "file_extension": ".py",
   "mimetype": "text/x-python",
   "name": "python",
   "nbconvert_exporter": "python",
   "pygments_lexer": "ipython3",
   "version": "3.8.10"
  }
 },
 "nbformat": 4,
 "nbformat_minor": 5
}
